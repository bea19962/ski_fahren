{
 "cells": [
  {
   "cell_type": "markdown",
   "metadata": {},
   "source": []
  },
  {
   "cell_type": "markdown",
   "metadata": {},
   "source": [
    "# SKI FARHT\n",
    "\n",
    "**Packages:**\n",
    "- pip install numpy\n",
    "- pip install matplotlib\n",
    "- pip install pandas\n",
    "  \n",
    "**Ressources**\n",
    "\n",
    "\n",
    "GI rechnung erklärung in Python -> https://www.learndatasci.com/glossary/gini-impurity/\n",
    "\n",
    "Pandas und Matplotlib short guide -> https://medium.com/@waziriphareeyda/data-visualization-and-plotting-techniques-with-pandas-in-python-a-comprehensive-guide-to-8a0d5bab3189\n",
    "\n",
    "Pandas Data prep -> https://medium.com/@sarah.ahmed.aboelseoud/data-visualization-with-python-basics-of-data-preparation-using-pandas-cef1ed626074 (es gab mal ein besseren guide aber es ist jetzt paywalled)\n",
    "\n",
    "Entscheidungsbäume -> https://www.datacamp.com/tutorial/decision-tree-classification-python\n"
   ]
  },
  {
   "cell_type": "markdown",
   "metadata": {},
   "source": [
    "Importieren von packages"
   ]
  },
  {
   "cell_type": "code",
   "execution_count": 107,
   "metadata": {},
   "outputs": [],
   "source": [
    "import numpy as np \n",
    "import matplotlib.pyplot as plt\n",
    "import pandas as pd"
   ]
  },
  {
   "cell_type": "markdown",
   "metadata": {},
   "source": [
    "Lesen der Daten"
   ]
  },
  {
   "cell_type": "code",
   "execution_count": 108,
   "metadata": {},
   "outputs": [
    {
     "name": "stdout",
     "output_type": "stream",
     "text": [
      "  Sonnig Wochenende  Entfernung Skifahren hat sich gelohnt\n",
      "0     Ja         Ja          90                         Ja\n",
      "1     Ja         Ja         120                       Nein\n",
      "2   Nein         Ja          80                         Ja\n",
      "3   Nein       Nein          80                         Ja\n",
      "4     Ja         Ja         110                       Nein\n",
      "5     Ja       Nein          76                         Ja\n",
      "6   Nein         Ja         105                       Nein\n",
      "7     Ja       Nein         131                         Ja\n",
      "8   Nein       Nein          95                         Ja\n",
      "9   Nein       Nein         114                       Nein\n"
     ]
    }
   ],
   "source": [
    "dataset = pd.read_excel('skifahren.xlsx')\n",
    "\n",
    "#dataset.head()\n",
    "#dataset.info()\n",
    "print(dataset)"
   ]
  },
  {
   "cell_type": "code",
   "execution_count": 109,
   "metadata": {},
   "outputs": [
    {
     "name": "stdout",
     "output_type": "stream",
     "text": [
      "<class 'pandas.core.frame.DataFrame'>\n",
      "RangeIndex: 10 entries, 0 to 9\n",
      "Data columns (total 4 columns):\n",
      " #   Column                      Non-Null Count  Dtype \n",
      "---  ------                      --------------  ----- \n",
      " 0   Sonnig                      10 non-null     object\n",
      " 1   Wochenende                  10 non-null     object\n",
      " 2   Entfernung                  10 non-null     int64 \n",
      " 3   Skifahren hat sich gelohnt  10 non-null     object\n",
      "dtypes: int64(1), object(3)\n",
      "memory usage: 452.0+ bytes\n"
     ]
    }
   ],
   "source": [
    "dataset.info()"
   ]
  },
  {
   "cell_type": "code",
   "execution_count": 117,
   "metadata": {},
   "outputs": [
    {
     "name": "stdout",
     "output_type": "stream",
     "text": [
      "Number of samples in each class is:\n",
      "Sonnig\n",
      "Ja      5\n",
      "Nein    5\n",
      "Name: count, dtype: int64\n",
      "Number of samples in each class is:\n",
      "Wochenende\n",
      "Ja      5\n",
      "Nein    5\n",
      "Name: count, dtype: int64\n",
      "Number of samples in each class is:\n",
      "Entfernung_Kategorie\n",
      "<=100    5\n",
      ">100     5\n",
      "Name: count, dtype: int64\n",
      "Number of samples in each class is:\n",
      "Skifahren hat sich gelohnt\n",
      "Ja      6\n",
      "Nein    4\n",
      "Name: count, dtype: int64\n"
     ]
    }
   ],
   "source": [
    "dataset['Entfernung_Kategorie'] = dataset['Entfernung'].apply(lambda x: '<=100' if x <= 100 else '>100')\n",
    "\n",
    "#attributen\n",
    "nodes = ['Sonnig','Wochenende', 'Entfernung_Kategorie'] \n",
    "#zielvariable\n",
    "label = 'Skifahren hat sich gelohnt' # oder dataset.iloc[-1]\n",
    "\n",
    "for node in nodes:\n",
    "    node_value_counts = dataset[node].value_counts()\n",
    "    print(f'Number of samples in each class is:\\n{node_value_counts}')\n",
    "\n",
    "label_value_counts = dataset[label].value_counts()\n",
    "print(f'Number of samples in each class is:\\n{label_value_counts}')"
   ]
  },
  {
   "cell_type": "markdown",
   "metadata": {},
   "source": [
    "# Gini Impurity und Information Gain"
   ]
  },
  {
   "cell_type": "code",
   "execution_count": 111,
   "metadata": {},
   "outputs": [],
   "source": [
    "# Definition der Gini-Impurity-Funktion\n",
    "def gi (labels):\n",
    "    n = labels.sum()\n",
    "    p_sum = 0\n",
    "    for label in labels.keys():\n",
    "        p_sum += (labels[label] / n) * (labels[label] / n)\n",
    "    gini = 1 - p_sum\n",
    "    return gini\n"
   ]
  },
  {
   "cell_type": "code",
   "execution_count": 112,
   "metadata": {},
   "outputs": [
    {
     "name": "stdout",
     "output_type": "stream",
     "text": [
      "Gini Impurity von Skifahren hat sich gelohnt: 0.480\n"
     ]
    }
   ],
   "source": [
    "gini_gesamt = gi(label_value_counts)\n",
    "print(f'Gini Impurity von {label}: {gini_gesamt:.3f}')"
   ]
  },
  {
   "cell_type": "code",
   "execution_count": 113,
   "metadata": {},
   "outputs": [
    {
     "name": "stdout",
     "output_type": "stream",
     "text": [
      "Gini Impurity für den Node Sonnig: 0.480\n",
      "Gini Impurity für den Node Wochenende: 0.400\n",
      "Gini Impurity für den Node Entfernung_Kategorie: 0.160\n"
     ]
    }
   ],
   "source": [
    "\n",
    "def gini_split(node):\n",
    "    node_value_counts = dataset[node].value_counts()\n",
    "    gini_neu = 0\n",
    "    total = dataset.shape[0] #oder len(dataset)\n",
    "    \n",
    "    for value, count in node_value_counts.items():\n",
    "        node_dataset = dataset[label][dataset[node] == value].value_counts()\n",
    "        gini_neu += (count / total) * gi(node_dataset)\n",
    "\n",
    "    return gini_neu \n",
    "\n",
    "gini_node = {}\n",
    "for node in nodes:\n",
    "    gini_node[node] = gini_split(node)\n",
    "    print(f'Gini Impurity für den Node {node}: {gini_node[node]:.3f}') "
   ]
  },
  {
   "cell_type": "code",
   "execution_count": 114,
   "metadata": {},
   "outputs": [
    {
     "name": "stdout",
     "output_type": "stream",
     "text": [
      "The minimum value of Gini Impurity : 0.16 \n",
      "The maximum value of Gini Gain     : 0.84 \n",
      "The selected attiribute is:  Entfernung_Kategorie\n"
     ]
    }
   ],
   "source": [
    "\n",
    "min_value = min(gini_node.values())\n",
    "print('The minimum value of Gini Impurity : {0:.3} '.format(min_value))\n",
    "print('The maximum value of Gini Gain     : {0:.3} '.format(1-min_value))\n",
    "\n",
    "selected_node = min(gini_node.keys())\n",
    "print('The selected attiribute is: ', selected_node)"
   ]
  },
  {
   "cell_type": "code",
   "execution_count": 115,
   "metadata": {},
   "outputs": [
    {
     "name": "stdout",
     "output_type": "stream",
     "text": [
      "Der Information Gain ist 0.320\n"
     ]
    }
   ],
   "source": [
    "#Information gain\n",
    "information_gain = gini_gesamt - gini_node[node]\n",
    "print (f'Der Information Gain ist {information_gain:.3f}')\n"
   ]
  },
  {
   "cell_type": "markdown",
   "metadata": {},
   "source": [
    "# Entscheidungs baum"
   ]
  },
  {
   "cell_type": "code",
   "execution_count": null,
   "metadata": {},
   "outputs": [],
   "source": []
  }
 ],
 "metadata": {
  "kernelspec": {
   "display_name": "Python 3",
   "language": "python",
   "name": "python3"
  },
  "language_info": {
   "codemirror_mode": {
    "name": "ipython",
    "version": 3
   },
   "file_extension": ".py",
   "mimetype": "text/x-python",
   "name": "python",
   "nbconvert_exporter": "python",
   "pygments_lexer": "ipython3",
   "version": "3.12.1"
  }
 },
 "nbformat": 4,
 "nbformat_minor": 2
}
