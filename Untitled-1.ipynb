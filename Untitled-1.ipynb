{
 "cells": [
  {
   "cell_type": "markdown",
   "metadata": {},
   "source": []
  },
  {
   "cell_type": "markdown",
   "metadata": {},
   "source": [
    "# SKI FARHT"
   ]
  },
  {
   "cell_type": "markdown",
   "metadata": {},
   "source": [
    "Importieren von packages"
   ]
  },
  {
   "cell_type": "code",
   "execution_count": 123,
   "metadata": {},
   "outputs": [],
   "source": [
    "import numpy as np \n",
    "import matplotlib.pyplot as plt\n",
    "import pandas as pd"
   ]
  },
  {
   "cell_type": "markdown",
   "metadata": {},
   "source": [
    "Lesen der Daten"
   ]
  },
  {
   "cell_type": "code",
   "execution_count": 124,
   "metadata": {},
   "outputs": [
    {
     "name": "stdout",
     "output_type": "stream",
     "text": [
      "  Sonnig Wochenende  Entfernung Skifahren hat sich gelohnt\n",
      "0     Ja         Ja          90                         Ja\n",
      "1     Ja         Ja         120                       Nein\n",
      "2   Nein         Ja          80                         Ja\n",
      "3   Nein       Nein          80                         Ja\n",
      "4     Ja         Ja         110                       Nein\n",
      "5     Ja       Nein          76                         Ja\n",
      "6   Nein         Ja         105                       Nein\n",
      "7     Ja       Nein         131                         Ja\n",
      "8   Nein       Nein          95                         Ja\n",
      "9   Nein       Nein         114                       Nein\n"
     ]
    }
   ],
   "source": [
    "dataset = pd.read_excel('skifahren.xlsx')\n",
    "\n",
    "#dataset.head()\n",
    "#dataset.info()\n",
    "print(dataset)"
   ]
  },
  {
   "cell_type": "code",
   "execution_count": 125,
   "metadata": {},
   "outputs": [
    {
     "name": "stdout",
     "output_type": "stream",
     "text": [
      "<class 'pandas.core.frame.DataFrame'>\n",
      "RangeIndex: 10 entries, 0 to 9\n",
      "Data columns (total 4 columns):\n",
      " #   Column                      Non-Null Count  Dtype \n",
      "---  ------                      --------------  ----- \n",
      " 0   Sonnig                      10 non-null     object\n",
      " 1   Wochenende                  10 non-null     object\n",
      " 2   Entfernung                  10 non-null     int64 \n",
      " 3   Skifahren hat sich gelohnt  10 non-null     object\n",
      "dtypes: int64(1), object(3)\n",
      "memory usage: 452.0+ bytes\n"
     ]
    }
   ],
   "source": [
    "dataset.info()"
   ]
  },
  {
   "cell_type": "code",
   "execution_count": 126,
   "metadata": {},
   "outputs": [
    {
     "name": "stdout",
     "output_type": "stream",
     "text": [
      "Number of samples in each class for Sonnig is:\n",
      "Sonnig\n",
      "Ja      5\n",
      "Nein    5\n",
      "Name: count, dtype: int64\n",
      "Number of samples in each class for Wochenende is:\n",
      "Wochenende\n",
      "Ja      5\n",
      "Nein    5\n",
      "Name: count, dtype: int64\n",
      "Number of samples in each class for Entfernung_Kategorie is:\n",
      "Entfernung_Kategorie\n",
      "<=100    5\n",
      ">100     5\n",
      "Name: count, dtype: int64\n",
      "Number of samples in each class for Skifahren hat sich gelohnt is:\n",
      "Skifahren hat sich gelohnt\n",
      "Ja      6\n",
      "Nein    4\n",
      "Name: count, dtype: int64\n"
     ]
    }
   ],
   "source": [
    "dataset['Entfernung_Kategorie'] = dataset['Entfernung'].apply(lambda x: '<=100' if x <= 100 else '>100')\n",
    "\n",
    "#attributen\n",
    "features = ['Sonnig','Wochenende', 'Entfernung_Kategorie'] \n",
    "#zielvariable\n",
    "label = 'Skifahren hat sich gelohnt' # oder dataset.iloc[-1]\n",
    "\n",
    "for feature in features:\n",
    "    feature_value_counts = dataset[feature].value_counts()\n",
    "    print(f'Number of samples in each class for {feature} is:\\n{feature_value_counts}')\n",
    "\n",
    "label_value_counts = dataset[label].value_counts()\n",
    "print(f'Number of samples in each class for {label} is:\\n{label_value_counts}')"
   ]
  },
  {
   "cell_type": "markdown",
   "metadata": {},
   "source": [
    "# Gini Impurity und Information Gain"
   ]
  },
  {
   "cell_type": "code",
   "execution_count": 127,
   "metadata": {},
   "outputs": [],
   "source": [
    "# Definition der Gini-Impurity-Funktion\n",
    "def gi (labels):\n",
    "    n = labels.sum()\n",
    "    p_sum = 0\n",
    "    for label in labels.keys():\n",
    "        p_sum += (labels[label] / n) * (labels[label] / n)\n",
    "    gini = 1 - p_sum\n",
    "    return gini\n"
   ]
  },
  {
   "cell_type": "code",
   "execution_count": 128,
   "metadata": {},
   "outputs": [
    {
     "name": "stdout",
     "output_type": "stream",
     "text": [
      "Gini Impurity von Skifahren hat sich gelohnt: 0.480\n"
     ]
    }
   ],
   "source": [
    "gini_gesamt = gi(label_value_counts)\n",
    "print(f'Gini Impurity von {label}: {gini_gesamt:.3f}')"
   ]
  },
  {
   "cell_type": "code",
   "execution_count": 129,
   "metadata": {},
   "outputs": [
    {
     "name": "stdout",
     "output_type": "stream",
     "text": [
      "Gini Impurity für den Node Sonnig: 0.480\n",
      "Gini Impurity für den Node Wochenende: 0.400\n",
      "Gini Impurity für den Node Entfernung_Kategorie: 0.160\n"
     ]
    }
   ],
   "source": [
    "\n",
    "def gini_split(feature):\n",
    "    feature_value_counts = dataset[feature].value_counts()\n",
    "    gini_neu = 0\n",
    "    total = dataset.shape[0] #oder len(dataset)\n",
    "    \n",
    "    for value, count in feature_value_counts.items():\n",
    "        feature_dataset = dataset[label][dataset[feature] == value].value_counts()\n",
    "        gini_neu += (count / total) * gi(feature_dataset)\n",
    "\n",
    "    return gini_neu \n",
    "\n",
    "split_mask = {}\n",
    "for feature in features:\n",
    "    split_mask[feature] = gini_split(feature)\n",
    "    print(f'Gini Impurity für den Node {feature}: {split_mask[feature]:.3f}') "
   ]
  },
  {
   "cell_type": "code",
   "execution_count": 130,
   "metadata": {},
   "outputs": [
    {
     "name": "stdout",
     "output_type": "stream",
     "text": [
      "The minimum value of Gini Impurity : 0.16 \n",
      "The maximum value of Gini Gain     : 0.84 \n",
      "The selected attiribute is:  Entfernung_Kategorie\n"
     ]
    }
   ],
   "source": [
    "\n",
    "min_value = min(split_mask.values())\n",
    "print('The minimum value of Gini Impurity : {0:.3} '.format(min_value))\n",
    "print('The maximum value of Gini Gain     : {0:.3} '.format(1-min_value))\n",
    "\n",
    "selected_node = min(split_mask.keys())\n",
    "print('The selected attiribute is: ', selected_node)"
   ]
  },
  {
   "cell_type": "code",
   "execution_count": 131,
   "metadata": {},
   "outputs": [
    {
     "name": "stdout",
     "output_type": "stream",
     "text": [
      "Der Information Gain ist 0.320\n"
     ]
    }
   ],
   "source": [
    "#Information gain\n",
    "information_gain = gini_gesamt - split_mask[feature]\n",
    "print (f'Der Information Gain ist {information_gain:.3f}')\n"
   ]
  },
  {
   "cell_type": "code",
   "execution_count": 132,
   "metadata": {},
   "outputs": [],
   "source": [
    "def find_best_split(data, features, target):\n",
    "    # Initialisieren der Variablen für die beste Aufteilung\n",
    "    best_gain = -1  # Ein negativer Informationsgewinn ist nicht möglich, also ein guter Startwert\n",
    "    best_feature = None\n",
    "    best_split_value = None\n",
    "\n",
    "    # Die aktuelle Gini-Impurity des Datensatzes vor dem Split berechnen\n",
    "    current_gini = gi(data[target])\n",
    "\n",
    "    # Überprüfen aller möglichen Splits für jedes Feature\n",
    "    for feature in features:\n",
    "        unique_values = data[feature].unique()\n",
    "        for value in unique_values:\n",
    "            # Teile die Daten basierend auf dem Feature-Wert\n",
    "            left_split = data[data[feature] <= value]\n",
    "            right_split = data[data[feature] > value]\n",
    "\n",
    "            # Berechne die Gini-Impurity für jeden Teilsplit\n",
    "            left_gini = gi(left_split[target])\n",
    "            right_gini = gi(right_split[target])\n",
    "\n",
    "            # Berechne den gewichteten Durchschnitt der Gini-Impurity nach dem Split\n",
    "            p_left = len(left_split) / len(data)\n",
    "            p_right = len(right_split) / len(data)\n",
    "            weighted_gini = p_left * left_gini + p_right * right_gini\n",
    "\n",
    "            # Berechne den Informationsgewinn vom aktuellen Split\n",
    "            gain = current_gini - weighted_gini\n",
    "\n",
    "            # Überprüfe, ob dieser Split besser ist als der bisher beste\n",
    "            if gain > best_gain:\n",
    "                best_gain = gain\n",
    "                best_feature = feature\n",
    "                best_split_value = value\n",
    "\n",
    "    # Gib die Details des besten gefundenen Splits zurück\n",
    "    print(f'The best split is on feature {best_feature} at value {best_split_value} with Gini Gain {best_gain:.3f}')\n",
    "    return best_feature, best_split_value\n"
   ]
  },
  {
   "cell_type": "markdown",
   "metadata": {},
   "source": [
    "# Entscheidungs baum"
   ]
  },
  {
   "cell_type": "code",
   "execution_count": 133,
   "metadata": {},
   "outputs": [
    {
     "ename": "NameError",
     "evalue": "name 'df' is not defined",
     "output_type": "error",
     "traceback": [
      "\u001b[1;31m---------------------------------------------------------------------------\u001b[0m",
      "\u001b[1;31mNameError\u001b[0m                                 Traceback (most recent call last)",
      "Cell \u001b[1;32mIn[133], line 24\u001b[0m\n\u001b[0;32m     20\u001b[0m     \u001b[38;5;28;01mreturn\u001b[39;00m tree\n\u001b[0;32m     22\u001b[0m \u001b[38;5;66;03m# Anwendung des Entscheidungsbaum-Algorithmus\u001b[39;00m\n\u001b[0;32m     23\u001b[0m \u001b[38;5;66;03m# Angenommen, Sie haben ein DataFrame `df`, ein Ziel `target` und eine Liste von Feature-Namen `features`\u001b[39;00m\n\u001b[1;32m---> 24\u001b[0m decision_tree \u001b[38;5;241m=\u001b[39m make_decision(\u001b[43mdf\u001b[49m, \u001b[38;5;124m'\u001b[39m\u001b[38;5;124mtarget\u001b[39m\u001b[38;5;124m'\u001b[39m, features)\n",
      "\u001b[1;31mNameError\u001b[0m: name 'df' is not defined"
     ]
    }
   ],
   "source": [
    "def make_decision(data, target, features, current_depth=1, max_depth=None):\n",
    "    # Basisfall: Überprüfen, ob alle Datenpunkte dasselbe Label haben oder keine Features mehr übrig sind\n",
    "    if len(data[target].unique()) == 1 or not features or (max_depth is not None and current_depth > max_depth):\n",
    "        return {current_depth: data[target].mode()[0]}  # oder ein anderes Kriterium für das Label\n",
    "\n",
    "    # Finden des besten Features und Wertes für den Split\n",
    "    best_feature, best_value = find_best_split(data, features, target)\n",
    "    \n",
    "    # Erstellen des Knotens im Baum\n",
    "    tree = {current_depth: [f\"{best_feature} <= {best_value}\", current_depth*2, current_depth*2 + 1]}\n",
    "    \n",
    "    # Daten aufteilen\n",
    "    left_data = data[data[best_feature] <= best_value]\n",
    "    right_data = data[data[best_feature] > best_value]\n",
    "    \n",
    "    # Rekursiver Aufruf für die linken und rechten Teilbäume\n",
    "    tree.update(make_decision(left_data, target, features, current_depth*2, max_depth))\n",
    "    tree.update(make_decision(right_data, target, features, current_depth*2 + 1, max_depth))\n",
    "    \n",
    "    return tree\n",
    "\n",
    "# Anwendung des Entscheidungsbaum-Algorithmus\n",
    "# Angenommen, Sie haben ein DataFrame `df`, ein Ziel `target` und eine Liste von Feature-Namen `features`\n",
    "decision_tree = make_decision(df, 'target', features)\n"
   ]
  }
 ],
 "metadata": {
  "kernelspec": {
   "display_name": "Python 3",
   "language": "python",
   "name": "python3"
  },
  "language_info": {
   "codemirror_mode": {
    "name": "ipython",
    "version": 3
   },
   "file_extension": ".py",
   "mimetype": "text/x-python",
   "name": "python",
   "nbconvert_exporter": "python",
   "pygments_lexer": "ipython3",
   "version": "3.12.1"
  }
 },
 "nbformat": 4,
 "nbformat_minor": 2
}
